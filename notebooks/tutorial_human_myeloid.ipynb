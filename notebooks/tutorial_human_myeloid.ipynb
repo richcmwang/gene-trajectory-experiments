{
  "cells": [
    {
      "cell_type": "markdown",
      "id": "d7ba339f-3d4e-48ac-8bfc-131fac250295",
      "metadata": {
        "id": "d7ba339f-3d4e-48ac-8bfc-131fac250295"
      },
      "source": [
        "# Gene Trajectory Python tutorial: Human myeloid #\n",
        "\n",
        "GeneTrajectory is a method for inferring gene trajectories in scRNA-seq data, which facilitates understanding of gene dynamics underlying biological processes. The major workflow of GeneTrajectory comprises the following four main steps:\n",
        "\n",
        "- Step 1. Build a cell-cell kNN graph in which each cell is connected to its k-nearest neighbors. Find the shortest path connecting each pair of cells in the graph and denote its length as the graph distance between cells.\n",
        "- Step 2. Compute pairwise graph-based Wasserstein distance between gene distributions, which quantifies the minimum cost of transporting the distribution of a given gene into the distribution of another gene in the cell graph.\n",
        "- Step 3. Generate a low-dimensional representation of genes (using Diffusion Map by default) based on the gene-gene Wasserstein distance matrix. Identify gene trajectories in a sequential manner.\n",
        "- Step 4. Determine the order of genes along each gene trajectory.\n",
        "\n",
        "![GT_workflow.png](https://github.com/richcmwang/gene-trajectory-experiments/blob/main/docs/notebooks/tutorial_images/GT_workflow.png?raw=1)"
      ]
    },
    {
      "cell_type": "code",
      "source": [
        "!pip install \\\n",
        "igraph>=0.10 \\\n",
        "matplotlib>=3.6 \\\n",
        "numpy>=1.25 \\\n",
        "pandas>=1.5 \\\n",
        "pot>=0.8.2 \\\n",
        "scanpy>=1.9.3 \\\n",
        "scikit-misc>=0.1.3 \\\n",
        "scikit-learn>=0.24 \\\n",
        "scipy>=1.8 \\\n",
        "seaborn>=0.13 \\\n",
        "tqdm>=4.64.1"
      ],
      "metadata": {
        "id": "SRKMwW25pVVb"
      },
      "id": "SRKMwW25pVVb",
      "execution_count": null,
      "outputs": []
    },
    {
      "cell_type": "code",
      "source": [
        "!pip install ipywidgets>=8.0.0 --upgrade"
      ],
      "metadata": {
        "id": "gg-F4B2QE_77"
      },
      "id": "gg-F4B2QE_77",
      "execution_count": null,
      "outputs": []
    },
    {
      "cell_type": "code",
      "source": [
        "!git clone https://github.com/richcmwang/gene-trajectory-experiments.git\n",
        "%cd gene-trajectory-experiments"
      ],
      "metadata": {
        "id": "m6TTxfHNqYpg"
      },
      "id": "m6TTxfHNqYpg",
      "execution_count": null,
      "outputs": []
    },
    {
      "cell_type": "code",
      "id": "b0bd2942bbf6908a",
      "metadata": {
        "jupyter": {
          "outputs_hidden": false
        },
        "ExecuteTime": {
          "end_time": "2024-05-05T11:20:06.996803Z",
          "start_time": "2024-05-05T11:20:05.104962Z"
        },
        "id": "b0bd2942bbf6908a"
      },
      "source": [
        "import scanpy as sc\n",
        "from gene_trajectory.add_gene_bin_score import add_gene_bin_score\n",
        "from gene_trajectory.coarse_grain import select_top_genes, coarse_grain_adata\n",
        "from gene_trajectory.extract_gene_trajectory import get_gene_embedding\n",
        "from gene_trajectory.get_graph_distance import get_graph_distance\n",
        "from gene_trajectory.gene_distance_shared import cal_ot_mat\n",
        "from gene_trajectory.run_dm import run_dm\n",
        "from gene_trajectory.plot.gene_trajectory_plots import plot_gene_trajectory_umap\n",
        "from gene_trajectory.util.download_file import download_file_if_missing\n",
        "\n",
        "from gene_trajectory.widgets import ExtractGeneTrajectoryWidget"
      ],
      "outputs": [],
      "execution_count": null
    },
    {
      "cell_type": "code",
      "id": "5864f7352092fe2f",
      "metadata": {
        "jupyter": {
          "outputs_hidden": false
        },
        "ExecuteTime": {
          "end_time": "2024-05-05T11:20:06.999880Z",
          "start_time": "2024-05-05T11:20:06.997897Z"
        },
        "id": "5864f7352092fe2f"
      },
      "source": [
        "import warnings\n",
        "\n",
        "warnings.simplefilter(action='ignore', category=FutureWarning)\n",
        "warnings.simplefilter(action='ignore', category=UserWarning)"
      ],
      "outputs": [],
      "execution_count": null
    },
    {
      "cell_type": "code",
      "source": [
        "from google.colab import output\n",
        "output.enable_custom_widget_manager()"
      ],
      "metadata": {
        "id": "O4HdDGa_xvvJ"
      },
      "id": "O4HdDGa_xvvJ",
      "execution_count": null,
      "outputs": []
    },
    {
      "cell_type": "markdown",
      "id": "af2bdc0a4bfc31f0",
      "metadata": {
        "collapsed": false,
        "jupyter": {
          "outputs_hidden": false
        },
        "id": "af2bdc0a4bfc31f0"
      },
      "source": [
        "## Loading example data  ##\n",
        "The standard preprocessing can be done by employing the scanpy Python package which includes:\n",
        "library normalization; finding variable features; scaling; generating PCA embedding (and UMAP embedding for visualization).\n",
        "\n",
        "We load a preprocessed Scanpy Anndata object where we will perform the gene trajectory inference.\n",
        "\n",
        "First, we download the data from [figshare](https://figshare.com/articles/dataset/Processed_AnnData_objects_for_GeneTrajectory_inference_Gene_Trajectory_Inference_for_Single-cell_Data_by_Optimal_Transport_Metrics_/25539547), where a copy of the data needed for the tutorial is saved.\n"
      ]
    },
    {
      "cell_type": "code",
      "id": "d40406c2-75d0-4e7a-83a9-a520ab312437",
      "metadata": {
        "ExecuteTime": {
          "end_time": "2024-05-05T11:20:07.572023Z",
          "start_time": "2024-05-05T11:20:07.000727Z"
        },
        "id": "d40406c2-75d0-4e7a-83a9-a520ab312437"
      },
      "source": [
        "download_file_if_missing('tutorial_data/human_myeloid_scanpy_obj.h5ad',\n",
        "    url='https://figshare.com/ndownloader/files/45448603',\n",
        "    md5_hash='923f8f00819e9f6401445af8d97275eb',\n",
        "    create_target_folder_if_missing=True)"
      ],
      "outputs": [],
      "execution_count": null
    },
    {
      "cell_type": "markdown",
      "id": "b178fe97-9ae4-4536-9a6b-1143651708d5",
      "metadata": {
        "id": "b178fe97-9ae4-4536-9a6b-1143651708d5"
      },
      "source": [
        "Once the file has been downloaded and saved to `tutorial_data/human_myeloid_scanpy_obj.h5ad`, we load the preprocessed Scanpy Anndata object where we will perform the gene trajectory inference."
      ]
    },
    {
      "cell_type": "code",
      "id": "70f60cec21c1bb67",
      "metadata": {
        "jupyter": {
          "outputs_hidden": false
        },
        "ExecuteTime": {
          "end_time": "2024-05-05T11:20:12.369991Z",
          "start_time": "2024-05-05T11:20:07.572704Z"
        },
        "id": "70f60cec21c1bb67"
      },
      "source": [
        "adata = sc.read_h5ad('tutorial_data/human_myeloid_scanpy_obj.h5ad')"
      ],
      "outputs": [],
      "execution_count": null
    },
    {
      "cell_type": "markdown",
      "source": [
        "Review dataset"
      ],
      "metadata": {
        "id": "vENPbzteGaP9"
      },
      "id": "vENPbzteGaP9"
    },
    {
      "cell_type": "code",
      "source": [
        "print(f\"cell barcode (ID) x  cell-level features: {adata.var.shape}\")\n",
        "adata.obs   # cell barcode (ID) x  cell-level features"
      ],
      "metadata": {
        "id": "wqyMMnfDGiYw"
      },
      "id": "wqyMMnfDGiYw",
      "execution_count": null,
      "outputs": []
    },
    {
      "cell_type": "markdown",
      "source": [
        "The row represents cell ID, and the column represents:\n",
        "\n",
        "* **`orig.ident`**: Original sample or batch ID (e.g., 0, 1, 2)\n",
        "* **`nCount_RNA`**: Total number of RNA UMIs (counts) detected in the cell across genes for that cell\n",
        "* **`nFeature_RNA`**: Number of genes detected (non-zero counts) for the cell\n",
        "* **`observed`, `simulated`**: Likely from a modeling step (e.g., diffusion, entropy, or trajectory likelihoods)\n",
        "* **`percent.mito`**: Percentage of reads from mitochondrial genes (common QC feature)\n",
        "* **`RNA_snn_res.0.4`**: Clustering labels computed at resolution 0.4 (e.g., from a shared nearest neighbor graph)\n",
        "* **`seurat_clusters`**: Final clustering assignments (often equivalent to a specific `RNA_snn_res`)\n",
        "* **`celltype`**: Annotated or inferred cell type label\n",
        "* **`TrajectoryX_genesY`**: Scores from gene trajectory analysis (e.g., from optimal transport or diffusion methods)\n"
      ],
      "metadata": {
        "id": "tVjo_KjJH4cy"
      },
      "id": "tVjo_KjJH4cy"
    },
    {
      "cell_type": "code",
      "source": [
        "print(f\"gene x gene level features: {adata.var.shape}\")\n",
        "adata.var # gene x gene level features"
      ],
      "metadata": {
        "id": "nXYmyu41JQdY"
      },
      "id": "nXYmyu41JQdY",
      "execution_count": null,
      "outputs": []
    },
    {
      "cell_type": "markdown",
      "source": [
        "The gene level features are statistics over the cell population.\n",
        "\n",
        "* **`mean`**: Mean expression of the gene across all cells (raw or normalized, depending on the pipeline)\n",
        "* **`variance`**: Variance of expression across all cells\n",
        "* **`variance.expected`**: Expected variance under a null model (often based on a mean–variance relationship)\n",
        "* **`variance.standardized`**: Observed variance divided by expected variance — used to score variability\n",
        "* **`vst.mean`**: Mean expression after **variance-stabilizing transformation (VST)**\n",
        "* **`vst.variance`**: Variance after VST\n",
        "* **`vst.variance.expected`**: Expected variance under the VST-based null model\n",
        "* **`vst.variance.standardized`**: Standardized VST variance = observed / expected\n",
        "* **`vst.variable`**: Boolean indicating whether the gene is flagged as **highly variable** by the VST method\n",
        "* **`alra_features`**: Gene identifier or label used during ALRA imputation (if that method was applied)"
      ],
      "metadata": {
        "id": "22wC1ga2TpPQ"
      },
      "id": "22wC1ga2TpPQ"
    },
    {
      "cell_type": "markdown",
      "source": [
        "adata.raw.X:\n",
        "- matrix of size `cell ID x genes`\n",
        "- The values are gene counts\n",
        "\n",
        "adata.X:\n",
        "- matrix of size `cell ID x genes`\n",
        "- The values could be normalized and transformed"
      ],
      "metadata": {
        "id": "aP-JjrBjWFfa"
      },
      "id": "aP-JjrBjWFfa"
    },
    {
      "cell_type": "code",
      "source": [
        "# cell ID x genes\n",
        "print(f\"Number of cell x Number of genes: {adata.raw.X.shape}\")"
      ],
      "metadata": {
        "id": "ieOOps3hk-A7"
      },
      "id": "ieOOps3hk-A7",
      "execution_count": null,
      "outputs": []
    },
    {
      "cell_type": "markdown",
      "id": "90d1131b-9198-43d0-8d1d-99520b340135",
      "metadata": {
        "id": "90d1131b-9198-43d0-8d1d-99520b340135"
      },
      "source": [
        "Next, we add a `cell_type` annotation to the metadata based on the clustering labels and plot it in the UMAP representation.\n",
        "\n",
        "Original clusters are labeled numerically."
      ]
    },
    {
      "cell_type": "code",
      "id": "899340c262a0fd20",
      "metadata": {
        "jupyter": {
          "outputs_hidden": false
        },
        "ExecuteTime": {
          "end_time": "2024-05-05T11:20:12.511763Z",
          "start_time": "2024-05-05T11:20:12.371640Z"
        },
        "id": "899340c262a0fd20"
      },
      "source": [
        "adata.obs['cell_type'] = adata.obs['cluster'].replace({\n",
        "  0: \"CD14+ monocytes\",\n",
        "  1: \"Intermediate monocytes\",\n",
        "  2: \"CD16+ monocytes\",\n",
        "  3: \"Myeloid type-2 dendritic cells\"}\n",
        ")\n",
        "sc.pl.umap(adata, color=[\"cell_type\"])\n"
      ],
      "outputs": [],
      "execution_count": null
    },
    {
      "cell_type": "markdown",
      "source": [
        "How is UMAP calculated in Scanpy?\n",
        "\n",
        "**Step 1: PCA**\n",
        "\n",
        "* Compress high-dimensional gene expression into fewer components while preserving structure.\n",
        "* **Input**: `adata.X` (cells × genes)\n",
        "* **Output**:\n",
        "  `adata.obsm[\"X_pca\"]` (cells × PCs)\n",
        "\n",
        "**Step 2: Compute Neighborhood Graph**\n",
        "\n",
        "* Build a graph connecting each cell to its nearest neighbors based on PCA space.\n",
        "* **Input**: `adata.obsm[\"X_pca\"]`\n",
        "* **Output**:\n",
        "  `adata.obsp[\"connectivities\"]` → weighted cell-cell similarity graph\n",
        "  `adata.obsp[\"distances\"]` → raw distances\n",
        "\n",
        "**Step 3: Compute UMAP Embedding**\n",
        "\n",
        "* Learn a 2D or 3D layout that preserves local cell neighborhoods.\n",
        "* **Input**: `adata.obsp[\"connectivities\"]`\n",
        "* **Output**:\n",
        "  `adata.obsm[\"X_umap\"]` (cells × 2)\n"
      ],
      "metadata": {
        "id": "eE691hqBu2QD"
      },
      "id": "eE691hqBu2QD"
    },
    {
      "cell_type": "markdown",
      "id": "1a000a7c-09d0-4070-bf07-c5da92022c70",
      "metadata": {
        "id": "1a000a7c-09d0-4070-bf07-c5da92022c70"
      },
      "source": [
        "## Gene-gene distance computation ##\n",
        "We narrow down the gene list for gene-gene distance computation by focusing on the top 500 variable genes expressed by 1% - 50% of cells.\n",
        "\n"
      ]
    },
    {
      "cell_type": "code",
      "id": "5fc9e431-9832-4b15-9126-ab0dab3626e5",
      "metadata": {
        "ExecuteTime": {
          "end_time": "2024-05-05T11:20:13.441241Z",
          "start_time": "2024-05-05T11:20:12.517396Z"
        },
        "id": "5fc9e431-9832-4b15-9126-ab0dab3626e5"
      },
      "source": [
        "if 'counts' not in adata.layers:\n",
        "    adata.layers['counts'] = adata.raw.X.copy()\n",
        "genes = select_top_genes(adata, layer='counts', n_variable_genes=500)"
      ],
      "outputs": [],
      "execution_count": null
    },
    {
      "cell_type": "markdown",
      "source": [
        "Support for third party widgets will remain active for the duration of the session. To disable support:"
      ],
      "metadata": {
        "id": "tJ66zvWvxvvK"
      },
      "id": "tJ66zvWvxvvK"
    },
    {
      "cell_type": "code",
      "source": [
        "from google.colab import output\n",
        "output.disable_custom_widget_manager()"
      ],
      "metadata": {
        "id": "oJARLeBhxvvL"
      },
      "id": "oJARLeBhxvvL",
      "execution_count": null,
      "outputs": []
    },
    {
      "cell_type": "code",
      "id": "a1c81c3f-1dc9-431a-893c-6104f3f70af0",
      "metadata": {
        "ExecuteTime": {
          "end_time": "2024-05-05T11:20:13.444339Z",
          "start_time": "2024-05-05T11:20:13.441992Z"
        },
        "id": "a1c81c3f-1dc9-431a-893c-6104f3f70af0"
      },
      "source": [
        "len(genes)"
      ],
      "outputs": [],
      "execution_count": null
    },
    {
      "cell_type": "markdown",
      "id": "09fd2d9d-7602-4087-9686-26863750faf6",
      "metadata": {
        "id": "09fd2d9d-7602-4087-9686-26863750faf6"
      },
      "source": [
        "## Prepare the input for gene-gene Wasserstein distance computation ##\n",
        "\n",
        "Next, we construct the cell-cell kNN graph and calculate cell-cell graph distances."
      ]
    },
    {
      "cell_type": "code",
      "id": "14d58e93-92e2-464c-98c1-8f594f98eb9f",
      "metadata": {
        "ExecuteTime": {
          "end_time": "2024-05-05T11:20:22.607807Z",
          "start_time": "2024-05-05T11:20:13.444930Z"
        },
        "id": "14d58e93-92e2-464c-98c1-8f594f98eb9f"
      },
      "source": [
        "run_dm(adata)\n",
        "cell_graph_dist = get_graph_distance(adata, k=10)"
      ],
      "outputs": [],
      "execution_count": null
    },
    {
      "cell_type": "code",
      "id": "b669d46a-d7d5-4cd6-be70-607b585f79bf",
      "metadata": {
        "ExecuteTime": {
          "end_time": "2024-05-05T11:20:23.294506Z",
          "start_time": "2024-05-05T11:20:22.608720Z"
        },
        "id": "b669d46a-d7d5-4cd6-be70-607b585f79bf"
      },
      "source": [
        "gene_expression_updated, graph_dist_updated = coarse_grain_adata(adata, graph_dist=cell_graph_dist, features=genes, n=500)"
      ],
      "outputs": [],
      "execution_count": null
    },
    {
      "cell_type": "code",
      "id": "319c2d1220bfe06",
      "metadata": {
        "jupyter": {
          "outputs_hidden": false
        },
        "ExecuteTime": {
          "end_time": "2024-05-05T11:20:38.733539Z",
          "start_time": "2024-05-05T11:20:23.299310Z"
        },
        "id": "319c2d1220bfe06"
      },
      "source": [
        "gene_dist_mat = cal_ot_mat(gene_expr=gene_expression_updated,\n",
        "                           ot_cost=graph_dist_updated,\n",
        "                           show_progress_bar=True)"
      ],
      "outputs": [],
      "execution_count": null
    },
    {
      "cell_type": "markdown",
      "id": "5f87c469-ce29-42bd-b922-d01a7636f1bb",
      "metadata": {
        "id": "5f87c469-ce29-42bd-b922-d01a7636f1bb"
      },
      "source": [
        "## Gene trajectory inference and visualization ##\n",
        "\n",
        "Next, we generate the gene embedding by employing Diffusion Map."
      ]
    },
    {
      "cell_type": "code",
      "id": "160380e7-4436-4bd2-91cf-7ff9aa475c82",
      "metadata": {
        "ExecuteTime": {
          "end_time": "2024-05-05T11:20:38.798264Z",
          "start_time": "2024-05-05T11:20:38.734635Z"
        },
        "id": "160380e7-4436-4bd2-91cf-7ff9aa475c82"
      },
      "source": [
        "gene_embedding, _ = get_gene_embedding(gene_dist_mat, k = 5)"
      ],
      "outputs": [],
      "execution_count": null
    },
    {
      "cell_type": "markdown",
      "id": "90c77c91-c1c6-442c-a5f7-c1d3adfc877b",
      "metadata": {
        "id": "90c77c91-c1c6-442c-a5f7-c1d3adfc877b"
      },
      "source": [
        "The extraction of gene trajectories is done sequentially. The initial node (terminus-1) is defined by the gene with the largest distance from the origin in the Diffusion Map embedding. A random-walk procedure is then employed on the gene graph to select the other genes that belong to the trajectory terminated at terminus-1. After retrieving genes for the first trajectory, we identify the terminus of the subsequent gene trajectory among the remaining genes and repeat the steps above. This is done iteratively until all detectable trajectories are extracted.\n",
        "\n",
        "To refine the trajectories we use the widget `ExtractGeneTrajectoryWidget`, which allows to tune parameters. We also label  some genes that are important in the system (e.g. CLEC5A, CD1C, FCGR3A, and PKIB)\n"
      ]
    },
    {
      "metadata": {
        "ExecuteTime": {
          "end_time": "2024-05-05T11:20:39.245982Z",
          "start_time": "2024-05-05T11:20:38.859242Z"
        },
        "id": "95ac7cfc9b5907f0"
      },
      "cell_type": "code",
      "source": [
        "extract_gene_trajectory_widget = ExtractGeneTrajectoryWidget(gene_embedding, gene_dist_mat, genes,\n",
        "                                                             label_genes=['CLEC5A', 'CD1C', 'FCGR3A', 'PKIB'])\n",
        "extract_gene_trajectory_widget"
      ],
      "id": "95ac7cfc9b5907f0",
      "outputs": [],
      "execution_count": null
    },
    {
      "metadata": {
        "id": "9747b69e06a1e80d"
      },
      "cell_type": "markdown",
      "source": [
        "We perform the following changes\n",
        "- Since this tutorial is made on a small dataset, set `k` from the default of `10` to `5`.\n",
        "- We slide the values of `t_list` to cover all genes, first extending the `t` for  `Trajectory-2` to 8\n",
        "- Adjust the `t` for `Trajectory-1` to 4\n",
        "- Adjust the `t` for `Trajectory-3`, until all genes are cover, i.e. to `7`\n",
        "\n",
        "The interactive optimization of the parameters is equivalent to setting the parameters\n",
        "- `k` = `5`\n",
        "- `t_list` = `[4, 8, 7]`\n",
        "the same set of parameters could have been applied directly as\n",
        "```\n",
        "gene_trajectory = extract_gene_trajectory(gene_embedding, gene_dist_mat, t_list = [4, 8, 7], gene_names=genes, k=5)\n",
        "plot_gene_trajectory_3d(gene_trajectory, label_genes=['CLEC5A', 'CD1C', 'FCGR3A', 'PKIB'])\n",
        "```\n",
        "\n",
        "Next, we extract the gene trajectory from the widget:"
      ],
      "id": "9747b69e06a1e80d"
    },
    {
      "cell_type": "code",
      "id": "08dad9fb-0c0e-4b08-a174-26352e520a45",
      "metadata": {
        "ExecuteTime": {
          "end_time": "2024-05-05T11:21:02.057467Z",
          "start_time": "2024-05-05T11:21:02.055483Z"
        },
        "id": "08dad9fb-0c0e-4b08-a174-26352e520a45"
      },
      "source": [
        "gene_trajectory = extract_gene_trajectory_widget.gene_trajectory"
      ],
      "outputs": [],
      "execution_count": null
    },
    {
      "cell_type": "code",
      "source": [
        "gene_trajectory"
      ],
      "metadata": {
        "id": "8iZt21DL0iti"
      },
      "id": "8iZt21DL0iti",
      "execution_count": null,
      "outputs": []
    },
    {
      "cell_type": "markdown",
      "id": "756e9d62-2050-4040-9d3f-7747ae46e6ae",
      "metadata": {
        "id": "756e9d62-2050-4040-9d3f-7747ae46e6ae"
      },
      "source": [
        "## Visualize gene bin plots ##\n",
        "\n",
        "To examine how each given gene trajectory is reflected over the cell graph, we can track how these genes are expressed across different regions in the cell embedding.\n",
        "For generating gene bin plots, we use the smooth expression values that are stored in the `alra` layer, which were computed using [ALRA](https://github.com/KlugerLab/ALRA/blob/master/README.md) imputation.\n"
      ]
    },
    {
      "cell_type": "code",
      "source": [
        "print(gene_trajectory.columns.tolist())\n"
      ],
      "metadata": {
        "id": "pCqEwnh10aEM"
      },
      "id": "pCqEwnh10aEM",
      "execution_count": null,
      "outputs": []
    },
    {
      "cell_type": "code",
      "id": "6de2cf26-98b0-49e7-a2e2-93847bd7651c",
      "metadata": {
        "ExecuteTime": {
          "end_time": "2024-05-05T11:21:06.386765Z",
          "start_time": "2024-05-05T11:21:05.616080Z"
        },
        "id": "6de2cf26-98b0-49e7-a2e2-93847bd7651c"
      },
      "source": [
        "add_gene_bin_score(adata, gene_trajectory=gene_trajectory, n_bins=5, trajectories=2, layer='alra')"
      ],
      "outputs": [],
      "execution_count": null
    },
    {
      "cell_type": "code",
      "id": "e4f224c9-05c7-4e59-be57-f9c9254ed69d",
      "metadata": {
        "ExecuteTime": {
          "end_time": "2024-05-05T11:21:09.683694Z",
          "start_time": "2024-05-05T11:21:09.042100Z"
        },
        "id": "e4f224c9-05c7-4e59-be57-f9c9254ed69d"
      },
      "source": [
        "plot_gene_trajectory_umap(adata, 'Trajectory1', other_panels='cell_type')\n"
      ],
      "outputs": [],
      "execution_count": null
    },
    {
      "cell_type": "code",
      "id": "a9a3b18e-202f-4833-889a-947485e8908a",
      "metadata": {
        "ExecuteTime": {
          "end_time": "2024-05-05T11:21:10.534622Z",
          "start_time": "2024-05-05T11:21:10.123818Z"
        },
        "id": "a9a3b18e-202f-4833-889a-947485e8908a"
      },
      "source": [
        "plot_gene_trajectory_umap(adata, 'Trajectory1', other_panels='cell_type')\n"
      ],
      "outputs": [],
      "execution_count": null
    },
    {
      "cell_type": "code",
      "id": "95c3fd1a-fb63-4b00-8e38-d138e725fc7b",
      "metadata": {
        "ExecuteTime": {
          "end_time": "2024-05-05T11:21:11.289294Z",
          "start_time": "2024-05-05T11:21:10.875299Z"
        },
        "id": "95c3fd1a-fb63-4b00-8e38-d138e725fc7b"
      },
      "source": [
        "plot_gene_trajectory_umap(adata, 'Trajectory2', other_panels='cell_type')\n"
      ],
      "outputs": [],
      "execution_count": null
    },
    {
      "metadata": {
        "id": "e55cf58356c98a9f"
      },
      "cell_type": "markdown",
      "source": [
        "We plot Trajectory 3 in reverse order as we want the gene `CLEC5A` to be at the end of the trajectory rather than at the beginning"
      ],
      "id": "e55cf58356c98a9f"
    },
    {
      "cell_type": "code",
      "id": "8ff7a82f-1f3b-4100-b874-dd9ed2766850",
      "metadata": {
        "ExecuteTime": {
          "end_time": "2024-05-05T11:21:13.669326Z",
          "start_time": "2024-05-05T11:21:13.135755Z"
        },
        "id": "8ff7a82f-1f3b-4100-b874-dd9ed2766850"
      },
      "source": [
        "plot_gene_trajectory_umap(adata, 'Trajectory3', other_panels='cell_type', reverse=True)\n"
      ],
      "outputs": [],
      "execution_count": null
    }
  ],
  "metadata": {
    "kernelspec": {
      "display_name": "Python 3 (ipykernel)",
      "language": "python",
      "name": "python3"
    },
    "language_info": {
      "codemirror_mode": {
        "name": "ipython",
        "version": 3
      },
      "file_extension": ".py",
      "mimetype": "text/x-python",
      "name": "python",
      "nbconvert_exporter": "python",
      "pygments_lexer": "ipython3",
      "version": "3.11.9"
    },
    "colab": {
      "provenance": []
    }
  },
  "nbformat": 4,
  "nbformat_minor": 5
}